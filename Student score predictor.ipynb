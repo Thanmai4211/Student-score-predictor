{
  "nbformat": 4,
  "nbformat_minor": 0,
  "metadata": {
    "colab": {
      "provenance": []
    },
    "kernelspec": {
      "name": "python3",
      "display_name": "Python 3"
    },
    "language_info": {
      "name": "python"
    }
  },
  "cells": [
    {
      "cell_type": "code",
      "source": [
        "import pandas as pd\n",
        "\n",
        "# Create the dataset directly in code\n",
        "data = {\n",
        "    'Hours Studied': [2.5, 5.1, 3.2, 8.5, 3.5, 1.5, 9.2, 5.5, 8.3, 2.7],\n",
        "    'Scores': [21, 47, 27, 75, 30, 20, 88, 60, 81, 25]\n",
        "}\n",
        "\n",
        "df = pd.DataFrame(data)\n",
        "\n",
        "# Show the dataframe\n",
        "print(df)\n"
      ],
      "metadata": {
        "colab": {
          "base_uri": "https://localhost:8080/"
        },
        "id": "hvjcDnYdxDuu",
        "outputId": "0f2850ef-3f0a-4064-e56c-d7694a28d0bb"
      },
      "execution_count": 2,
      "outputs": [
        {
          "output_type": "stream",
          "name": "stdout",
          "text": [
            "   Hours Studied  Scores\n",
            "0            2.5      21\n",
            "1            5.1      47\n",
            "2            3.2      27\n",
            "3            8.5      75\n",
            "4            3.5      30\n",
            "5            1.5      20\n",
            "6            9.2      88\n",
            "7            5.5      60\n",
            "8            8.3      81\n",
            "9            2.7      25\n"
          ]
        }
      ]
    },
    {
      "cell_type": "code",
      "source": [
        "import matplotlib.pyplot as plt\n",
        "\n",
        "# Plotting the data points\n",
        "plt.scatter(df['Hours Studied'], df['Scores'])\n",
        "plt.title('Hours Studied vs Scores')\n",
        "plt.xlabel('Hours Studied')\n",
        "plt.ylabel('Scores')\n",
        "plt.show()\n"
      ],
      "metadata": {
        "colab": {
          "base_uri": "https://localhost:8080/",
          "height": 472
        },
        "id": "fx4wL2kSxLTB",
        "outputId": "b289c33c-d46e-4a9e-d232-6e4744962a61"
      },
      "execution_count": 3,
      "outputs": [
        {
          "output_type": "display_data",
          "data": {
            "text/plain": [
              "<Figure size 640x480 with 1 Axes>"
            ],
            "image/png": "[encoded data removed]"
          },
          "metadata": {}
        }
      ]
    },
    {
      "cell_type": "code",
      "source": [
        "from sklearn.model_selection import train_test_split\n",
        "from sklearn.linear_model import LinearRegression\n",
        "\n",
        "# Define features (X) and target (y)\n",
        "X = df[['Hours Studied']]  # input feature (must be 2D)\n",
        "y = df['Scores']           # output label\n",
        "\n",
        "# Split dataset into training and testing sets (80% train, 20% test)\n",
        "X_train, X_test, y_train, y_test = train_test_split(X, y, test_size=0.2, random_state=0)\n",
        "\n",
        "# Create and train the model\n",
        "model = LinearRegression()\n",
        "model.fit(X_train, y_train)\n",
        "\n",
        "print(\"Model trained successfully!\")\n"
      ],
      "metadata": {
        "colab": {
          "base_uri": "https://localhost:8080/"
        },
        "id": "PLoex5qhxYSE",
        "outputId": "aaf21c39-42dc-479c-f702-233f612a0b40"
      },
      "execution_count": 4,
      "outputs": [
        {
          "output_type": "stream",
          "name": "stdout",
          "text": [
            "Model trained successfully!\n"
          ]
        }
      ]
    },
    {
      "cell_type": "code",
      "source": [
        "# Predict the scores for test set\n",
        "y_pred = model.predict(X_test)\n",
        "\n",
        "# Compare actual vs predicted scores\n",
        "df_compare = pd.DataFrame({'Actual': y_test, 'Predicted': y_pred})\n",
        "print(df_compare)\n"
      ],
      "metadata": {
        "colab": {
          "base_uri": "https://localhost:8080/"
        },
        "id": "D3DcOPs3xfr2",
        "outputId": "aa996c11-6851-4f43-f94a-1c6f0df443f7"
      },
      "execution_count": 5,
      "outputs": [
        {
          "output_type": "stream",
          "name": "stdout",
          "text": [
            "   Actual  Predicted\n",
            "2      27  31.028506\n",
            "8      81  77.589510\n"
          ]
        }
      ]
    },
    {
      "cell_type": "code",
      "source": [
        "plt.scatter(X_test, y_test, color='blue', label='Actual')\n",
        "plt.scatter(X_test, y_pred, color='red', label='Predicted')\n",
        "plt.title('Actual vs Predicted Scores')\n",
        "plt.xlabel('Hours Studied')\n",
        "plt.ylabel('Scores')\n",
        "plt.legend()\n",
        "plt.show()\n"
      ],
      "metadata": {
        "colab": {
          "base_uri": "https://localhost:8080/",
          "height": 472
        },
        "id": "hrd8_5k0xopj",
        "outputId": "07c3fa36-a175-4f0d-c7fd-09354d0913ac"
      },
      "execution_count": 6,
      "outputs": [
        {
          "output_type": "display_data",
          "data": {
            "text/plain": [
              "<Figure size 640x480 with 1 Axes>"
            ],
            "image/png": "[encoded data removed]"
          },
          "metadata": {}
        }
      ]
    },
    {
      "cell_type": "code",
      "source": [
        "# Replace the value inside [] with hours you want to test\n",
        "hours = [[9]]  # example: 7 hours\n",
        "\n",
        "predicted_score = model.predict(hours)\n",
        "print(f\"Predicted score for studying {hours[0][0]} hours is: {predicted_score[0]:.2f}\")\n"
      ],
      "metadata": {
        "colab": {
          "base_uri": "https://localhost:8080/"
        },
        "id": "xMrmHIDRxvWl",
        "outputId": "23dcfbd1-7283-4179-ae8a-9b173ed9f142"
      },
      "execution_count": 7,
      "outputs": [
        {
          "output_type": "stream",
          "name": "stdout",
          "text": [
            "Predicted score for studying 9 hours is: 83.98\n"
          ]
        },
        {
          "output_type": "stream",
          "name": "stderr",
          "text": [
            "/usr/local/lib/python3.11/dist-packages/sklearn/utils/validation.py:2739: UserWarning: X does not have valid feature names, but LinearRegression was fitted with feature names\n",
            "  warnings.warn(\n"
          ]
        }
      ]
    },
    {
      "cell_type": "code",
      "source": [
        "# Replace the value inside [] with hours you want to test\n",
        "hours = [[3]]  # example: 7 hours\n",
        "\n",
        "predicted_score = model.predict(hours)\n",
        "print(f\"Predicted score for studying {hours[0][0]} hours is: {predicted_score[0]:.2f}\")\n"
      ],
      "metadata": {
        "colab": {
          "base_uri": "https://localhost:8080/"
        },
        "id": "MIptQcrhx_Oy",
        "outputId": "e4761c16-44f1-400c-9428-dbdc3eebdf94"
      },
      "execution_count": 8,
      "outputs": [
        {
          "output_type": "stream",
          "name": "stdout",
          "text": [
            "Predicted score for studying 3 hours is: 29.20\n"
          ]
        },
        {
          "output_type": "stream",
          "name": "stderr",
          "text": [
            "/usr/local/lib/python3.11/dist-packages/sklearn/utils/validation.py:2739: UserWarning: X does not have valid feature names, but LinearRegression was fitted with feature names\n",
            "  warnings.warn(\n"
          ]
        }
      ]
    },
    {
      "cell_type": "code",
      "source": [
        "from sklearn.metrics import mean_absolute_error, mean_squared_error, r2_score\n",
        "\n",
        "mae = mean_absolute_error(y_test, y_pred)\n",
        "mse = mean_squared_error(y_test, y_pred)\n",
        "r2 = r2_score(y_test, y_pred)\n",
        "\n",
        "print(f\"MAE: {mae:.2f}\")\n",
        "print(f\"MSE: {mse:.2f}\")\n",
        "print(f\"R2 Score: {r2:.2f}\")\n"
      ],
      "metadata": {
        "colab": {
          "base_uri": "https://localhost:8080/"
        },
        "id": "m0D23zNlyCjF",
        "outputId": "894d9044-21b4-49ca-cac6-fb2213da0a16"
      },
      "execution_count": 9,
      "outputs": [
        {
          "output_type": "stream",
          "name": "stdout",
          "text": [
            "MAE: 3.72\n",
            "MSE: 13.93\n",
            "R2 Score: 0.98\n"
          ]
        }
      ]
    },
    {
      "cell_type": "code",
      "source": [],
      "metadata": {
        "id": "OEm3QTAF2yUh"
      },
      "execution_count": null,
      "outputs": []
    }
  ]
}